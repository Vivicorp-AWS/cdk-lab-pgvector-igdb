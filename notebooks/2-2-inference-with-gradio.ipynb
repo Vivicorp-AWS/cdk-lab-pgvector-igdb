{
 "cells": [
  {
   "cell_type": "markdown",
   "id": "f1ec9383-e0e1-46cc-ba67-53c70dfdceb7",
   "metadata": {},
   "source": [
    "# IGDB Embeddings pgvector Demo - Inference & Search with Gradio"
   ]
  },
  {
   "cell_type": "code",
   "execution_count": 1,
   "id": "7b94e6e5-7d0a-4577-ad8a-d747f6c2f94f",
   "metadata": {},
   "outputs": [],
   "source": [
    "!pip install \"psycopg[binary]\" gradio --quiet"
   ]
  },
  {
   "cell_type": "code",
   "execution_count": 2,
   "id": "2f6fa752-6914-4613-8fea-ee78123fd8ad",
   "metadata": {
    "tags": []
   },
   "outputs": [],
   "source": [
    "import sagemaker\n",
    "import boto3\n",
    "import json\n",
    "import pandas as pd\n",
    "import psycopg\n",
    "from sagemaker.huggingface.model import HuggingFacePredictor\n",
    "import gradio as gr"
   ]
  },
  {
   "cell_type": "code",
   "execution_count": 3,
   "id": "a3a95233-9f73-408e-a076-c99b94768b26",
   "metadata": {},
   "outputs": [],
   "source": [
    "# Create SageMaker Session\n",
    "sess = sagemaker.Session()\n",
    "\n",
    "# Create SecretsManager client\n",
    "secretsmanager = boto3.client('secretsmanager')"
   ]
  },
  {
   "cell_type": "markdown",
   "id": "685c1e74-4a63-438a-8a7b-fe13ca5cc788",
   "metadata": {
    "tags": []
   },
   "source": [
    "## Retrive all variables from Notebook Instance's tags"
   ]
  },
  {
   "cell_type": "code",
   "execution_count": 4,
   "id": "4f266833-a84f-44a8-ba3b-5346a97b6376",
   "metadata": {
    "tags": []
   },
   "outputs": [],
   "source": [
    "# Get this Notebook Instance's ARN\n",
    "NOTEBOOK_ARN = !jq '.ResourceArn' /opt/ml/metadata/resource-metadata.json --raw-output\n",
    "NOTEBOOK_ARN = NOTEBOOK_ARN[0]\n",
    "\n",
    "# Get the tags of this Notebook Instance\n",
    "tags = sess.sagemaker_client.list_tags(ResourceArn=NOTEBOOK_ARN)['Tags']\n",
    "\n",
    "# Filter out the keys that contains the necessary information\n",
    "DB_SECRET_ARN = list(filter(lambda x: x['Key'] == 'VAR_DB_SECRET_ARN', tags))[0]['Value']\n",
    "MODEL_ENDPOINT = list(filter(lambda x: x['Key'] == 'VAR_MODEL_ENDPOINT', tags))[0]['Value']"
   ]
  },
  {
   "cell_type": "markdown",
   "id": "d9477aa6-3407-426c-8ea7-88fe70cc1412",
   "metadata": {},
   "source": [
    "## Inference with Model Endpoint"
   ]
  },
  {
   "cell_type": "code",
   "execution_count": 5,
   "id": "4c990a5c-3c86-46f8-845f-62ba4af0b2c7",
   "metadata": {
    "tags": []
   },
   "outputs": [],
   "source": [
    "# Get database credentials\n",
    "secretsmanager = boto3.client('secretsmanager')\n",
    "\n",
    "db_secret = secretsmanager.get_secret_value(\n",
    "    SecretId=DB_SECRET_ARN\n",
    ")\n",
    "db_secret_string = json.loads(db_secret['SecretString'])\n",
    "db_secret_string\n",
    "db_host = db_secret_string['host']\n",
    "db_port = db_secret_string['port']\n",
    "db_user = db_secret_string['username']\n",
    "db_pass = db_secret_string['password']"
   ]
  },
  {
   "cell_type": "code",
   "execution_count": 6,
   "id": "93c580f5-1e59-4f6a-b97d-5938cc8f8f94",
   "metadata": {
    "tags": []
   },
   "outputs": [],
   "source": [
    "# Get the existing model\n",
    "predictor = HuggingFacePredictor(MODEL_ENDPOINT, sagemaker_session=sess)"
   ]
  },
  {
   "cell_type": "code",
   "execution_count": 7,
   "id": "557d033f-e110-4482-b317-5b76a4ce522d",
   "metadata": {
    "tags": []
   },
   "outputs": [
    {
     "name": "stdout",
     "output_type": "stream",
     "text": [
      "Running on local URL:  http://127.0.0.1:7860\n",
      "Sagemaker notebooks may require sharing enabled. Setting `share=True` (you can turn this off by setting `share=False` in `launch()` explicitly).\n",
      "\n",
      "Running on public URL: https://e54cb7fa83a24a0e84.gradio.live\n",
      "\n",
      "This share link expires in 72 hours. For free permanent hosting and GPU upgrades, run `gradio deploy` from Terminal to deploy to Spaces (https://huggingface.co/spaces)\n"
     ]
    },
    {
     "data": {
      "text/html": [
       "<div><iframe src=\"https://e54cb7fa83a24a0e84.gradio.live\" width=\"100%\" height=\"500\" allow=\"autoplay; camera; microphone; clipboard-read; clipboard-write;\" frameborder=\"0\" allowfullscreen></iframe></div>"
      ],
      "text/plain": [
       "<IPython.core.display.HTML object>"
      ]
     },
     "metadata": {},
     "output_type": "display_data"
    },
    {
     "data": {
      "text/plain": []
     },
     "execution_count": 7,
     "metadata": {},
     "output_type": "execute_result"
    }
   ],
   "source": [
    "# Create a simple GUI frontend with Gradio\n",
    "def formatter_image(hash):\n",
    "    return f'<img src=\"https://images.igdb.com/igdb/image/upload/t_screenshot_med/{hash}.jpg\">'\n",
    "\n",
    "def formatter_url(url):\n",
    "    return f'<a href={url} target=\"_blank\" rel=\"noopener noreferrer\">Link to IGDB</a>'\n",
    "\n",
    "def query(inp):\n",
    "    # Change the question to embedding\n",
    "    data = {\"inputs\": inp}\n",
    "    prediction = predictor.predict(data=data)\n",
    "    vector = prediction['vectors']\n",
    "\n",
    "    # Query\n",
    "    with psycopg.connect(host=db_host, user=db_user, password=db_pass, port=db_port, connect_timeout=10, autocommit=True) as conn:\n",
    "        with conn.cursor() as cur:\n",
    "        # # Official answer but FAILED\n",
    "        # cur.execute(\"\"\"SELECT igdb_id, name, summary, description, url, artwork_hash, screenshot_hash, description_embeddings\n",
    "        #                 FROM igdb \n",
    "        #                ORDER BY descriptions_embeddings <-> %s::vector limit 5;\"\"\", \n",
    "        #             (np.array(vector),))\n",
    "\n",
    "            # Ref: https://github.com/pgvector/pgvector-python/issues/4#issuecomment-1474930998\n",
    "            cur.execute(\"\"\"SELECT igdb_id, name, summary, description, url, artwork_hash, screenshot_hash\n",
    "                             FROM igdb \n",
    "                            ORDER BY description_embeddings <-> %s::vector limit 5;\"\"\", \n",
    "                        (vector,))\n",
    "\n",
    "            responses = cur.fetchall()\n",
    "\n",
    "    result = pd.DataFrame(responses)\n",
    "    result.columns = (\"IGDB ID\", \"Name\", \"Summary\", \"Description\", \"IGDB Page\", \"Artwork\", \"Screenshot\",)\n",
    "    html = result.to_html(escape=False, formatters={\n",
    "        \"IGDB Page\": formatter_url,\n",
    "        \"Artwork\": formatter_image,\n",
    "        \"Screenshot\": formatter_image,\n",
    "    })\n",
    "    return html\n",
    "\n",
    "with gr.Blocks() as demo:\n",
    "    textbox_input = gr.Textbox(label=\"Query\")\n",
    "    gr.Examples(\n",
    "        examples=[[\"Zelda: Tears of the Kingdom\"]],\n",
    "        inputs=textbox_input,\n",
    "    )\n",
    "    button_submit = gr.Button(\"Submit\")\n",
    "    html_output = gr.HTML()  \n",
    "    \n",
    "    button_submit.click(fn=query, inputs=textbox_input, outputs=html_output, api_name=\"query\")\n",
    "\n",
    "demo.launch()"
   ]
  },
  {
   "cell_type": "code",
   "execution_count": null,
   "id": "2a1ce695-1ee5-4808-9697-3fb75968622e",
   "metadata": {},
   "outputs": [],
   "source": []
  }
 ],
 "metadata": {
  "kernelspec": {
   "display_name": "conda_python3",
   "language": "python",
   "name": "conda_python3"
  },
  "language_info": {
   "codemirror_mode": {
    "name": "ipython",
    "version": 3
   },
   "file_extension": ".py",
   "mimetype": "text/x-python",
   "name": "python",
   "nbconvert_exporter": "python",
   "pygments_lexer": "ipython3",
   "version": "3.10.10"
  }
 },
 "nbformat": 4,
 "nbformat_minor": 5
}
