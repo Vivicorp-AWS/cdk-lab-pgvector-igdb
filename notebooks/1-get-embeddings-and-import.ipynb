{
 "cells": [
  {
   "cell_type": "markdown",
   "id": "0949825c-d889-4707-9ba8-aafc90837f69",
   "metadata": {},
   "source": [
    "# IGDB Embeddings pgvector Demo - Get Embeddings from Model Endpoint & Import Embeddings into Datbase"
   ]
  },
  {
   "cell_type": "code",
   "execution_count": 1,
   "id": "c7ea4e02-e61a-4f3f-99cf-d81d90fdea48",
   "metadata": {
    "tags": []
   },
   "outputs": [],
   "source": [
    "!pip install tqdm \"psycopg[binary]\" pgvector --quiet"
   ]
  },
  {
   "cell_type": "code",
   "execution_count": 2,
   "id": "91477aae-7a47-4cfe-bae3-927294ce8df1",
   "metadata": {
    "tags": []
   },
   "outputs": [],
   "source": [
    "import sagemaker\n",
    "import boto3\n",
    "import pandas as pd\n",
    "from sagemaker.huggingface.model import HuggingFacePredictor\n",
    "from multiprocessing import cpu_count\n",
    "from tqdm.contrib.concurrent import process_map\n",
    "import json\n",
    "import psycopg\n",
    "from pgvector.psycopg import register_vector"
   ]
  },
  {
   "cell_type": "code",
   "execution_count": 3,
   "id": "a37d58c3-b594-49ce-8cb8-855bb3691a42",
   "metadata": {
    "tags": []
   },
   "outputs": [],
   "source": [
    "# Create SageMaker Session\n",
    "sess = sagemaker.Session()\n",
    "\n",
    "# Create S3 client\n",
    "s3 = boto3.client('s3')\n",
    "\n",
    "# Create SecretsManager client\n",
    "secretsmanager = boto3.client('secretsmanager')"
   ]
  },
  {
   "cell_type": "markdown",
   "id": "1ab98bbd-ea6a-42a5-bda0-0991355dff43",
   "metadata": {
    "tags": []
   },
   "source": [
    "## Retrive all variables from Notebook Instance's tags"
   ]
  },
  {
   "cell_type": "code",
   "execution_count": 4,
   "id": "8a3320d9-f654-45fe-9f88-7d1660dd15b3",
   "metadata": {
    "tags": []
   },
   "outputs": [],
   "source": [
    "# Get this Notebook Instance's ARN\n",
    "NOTEBOOK_ARN = !jq '.ResourceArn' /opt/ml/metadata/resource-metadata.json --raw-output\n",
    "NOTEBOOK_ARN = NOTEBOOK_ARN[0]\n",
    "\n",
    "# Get the tags of this Notebook Instance\n",
    "tags = sess.sagemaker_client.list_tags(ResourceArn=NOTEBOOK_ARN)['Tags']\n",
    "\n",
    "# Filter out the keys that contains the necessary information\n",
    "ASSETS_BUCKET = list(filter(lambda x: x['Key'] == 'VAR_ASSETS_BUCKET', tags))[0]['Value']\n",
    "DB_SECRET_ARN = list(filter(lambda x: x['Key'] == 'VAR_DB_SECRET_ARN', tags))[0]['Value']\n",
    "MODEL_ENDPOINT = list(filter(lambda x: x['Key'] == 'VAR_MODEL_ENDPOINT', tags))[0]['Value']"
   ]
  },
  {
   "cell_type": "markdown",
   "id": "eac0886e-16ca-4132-817e-3a353dc99d43",
   "metadata": {},
   "source": [
    "## Get Source Dataset from Bucket"
   ]
  },
  {
   "cell_type": "code",
   "execution_count": 5,
   "id": "349f2e62-57ac-44b8-a1fc-5ca0abc7082b",
   "metadata": {
    "tags": []
   },
   "outputs": [],
   "source": [
    "# Download data file from bucket\n",
    "s3.download_file(ASSETS_BUCKET, 'nintendo_switch_games.csv', './nintendo_switch_games.csv')"
   ]
  },
  {
   "cell_type": "code",
   "execution_count": 6,
   "id": "2fedbddf-d4f1-4179-b4bb-be8f6d018afd",
   "metadata": {
    "tags": []
   },
   "outputs": [
    {
     "data": {
      "text/html": [
       "<div>\n",
       "<style scoped>\n",
       "    .dataframe tbody tr th:only-of-type {\n",
       "        vertical-align: middle;\n",
       "    }\n",
       "\n",
       "    .dataframe tbody tr th {\n",
       "        vertical-align: top;\n",
       "    }\n",
       "\n",
       "    .dataframe thead th {\n",
       "        text-align: right;\n",
       "    }\n",
       "</style>\n",
       "<table border=\"1\" class=\"dataframe\">\n",
       "  <thead>\n",
       "    <tr style=\"text-align: right;\">\n",
       "      <th></th>\n",
       "      <th>igdb_id</th>\n",
       "      <th>name</th>\n",
       "      <th>summary</th>\n",
       "      <th>description</th>\n",
       "      <th>url</th>\n",
       "      <th>artwork_hash</th>\n",
       "      <th>screenshot_hash</th>\n",
       "    </tr>\n",
       "  </thead>\n",
       "  <tbody>\n",
       "    <tr>\n",
       "      <th>0</th>\n",
       "      <td>174898</td>\n",
       "      <td>Clash of Chess</td>\n",
       "      <td>Our app is ideal for everyone. It contains 10 ...</td>\n",
       "      <td>Title: \"Clash of Chess\" Summary: Our app is id...</td>\n",
       "      <td>https://www.igdb.com/games/clash-of-chess</td>\n",
       "      <td>ar15x4</td>\n",
       "      <td>sce3dq</td>\n",
       "    </tr>\n",
       "    <tr>\n",
       "      <th>1</th>\n",
       "      <td>186554</td>\n",
       "      <td>Minepull</td>\n",
       "      <td>More than just a puzzle game. Minepull highlig...</td>\n",
       "      <td>Title: \"Minepull\" Summary: More than just a pu...</td>\n",
       "      <td>https://www.igdb.com/games/minepull</td>\n",
       "      <td>ar1c3t</td>\n",
       "      <td>scf5ib</td>\n",
       "    </tr>\n",
       "    <tr>\n",
       "      <th>2</th>\n",
       "      <td>186935</td>\n",
       "      <td>Biker Garage: Mechanic Simulator</td>\n",
       "      <td>Biker Garage: Mechanic Simulator allows you to...</td>\n",
       "      <td>Title: \"Biker Garage: Mechanic Simulator\" Summ...</td>\n",
       "      <td>https://www.igdb.com/games/biker-garage-mechan...</td>\n",
       "      <td>ar1ca7</td>\n",
       "      <td>scf75j</td>\n",
       "    </tr>\n",
       "    <tr>\n",
       "      <th>3</th>\n",
       "      <td>187097</td>\n",
       "      <td>Geography Quiz Festival: Guess the Countries</td>\n",
       "      <td>Advance through our beloved game by completing...</td>\n",
       "      <td>Title: \"Geography Quiz Festival: Guess the Cou...</td>\n",
       "      <td>https://www.igdb.com/games/geography-quiz-fest...</td>\n",
       "      <td>ar1ci3</td>\n",
       "      <td>scf812</td>\n",
       "    </tr>\n",
       "    <tr>\n",
       "      <th>4</th>\n",
       "      <td>187475</td>\n",
       "      <td>Chess: Clash of Kings</td>\n",
       "      <td>Our app is ideal for everyone. It contains 10 ...</td>\n",
       "      <td>Title: \"Chess: Clash of Kings\" Summary: Our ap...</td>\n",
       "      <td>https://www.igdb.com/games/chess-clash-of-kings</td>\n",
       "      <td>ar1d21</td>\n",
       "      <td>scf9ms</td>\n",
       "    </tr>\n",
       "  </tbody>\n",
       "</table>\n",
       "</div>"
      ],
      "text/plain": [
       "   igdb_id                                          name   \n",
       "0   174898                                Clash of Chess  \\\n",
       "1   186554                                      Minepull   \n",
       "2   186935              Biker Garage: Mechanic Simulator   \n",
       "3   187097  Geography Quiz Festival: Guess the Countries   \n",
       "4   187475                         Chess: Clash of Kings   \n",
       "\n",
       "                                             summary   \n",
       "0  Our app is ideal for everyone. It contains 10 ...  \\\n",
       "1  More than just a puzzle game. Minepull highlig...   \n",
       "2  Biker Garage: Mechanic Simulator allows you to...   \n",
       "3  Advance through our beloved game by completing...   \n",
       "4  Our app is ideal for everyone. It contains 10 ...   \n",
       "\n",
       "                                         description   \n",
       "0  Title: \"Clash of Chess\" Summary: Our app is id...  \\\n",
       "1  Title: \"Minepull\" Summary: More than just a pu...   \n",
       "2  Title: \"Biker Garage: Mechanic Simulator\" Summ...   \n",
       "3  Title: \"Geography Quiz Festival: Guess the Cou...   \n",
       "4  Title: \"Chess: Clash of Kings\" Summary: Our ap...   \n",
       "\n",
       "                                                 url artwork_hash   \n",
       "0          https://www.igdb.com/games/clash-of-chess       ar15x4  \\\n",
       "1                https://www.igdb.com/games/minepull       ar1c3t   \n",
       "2  https://www.igdb.com/games/biker-garage-mechan...       ar1ca7   \n",
       "3  https://www.igdb.com/games/geography-quiz-fest...       ar1ci3   \n",
       "4    https://www.igdb.com/games/chess-clash-of-kings       ar1d21   \n",
       "\n",
       "  screenshot_hash  \n",
       "0          sce3dq  \n",
       "1          scf5ib  \n",
       "2          scf75j  \n",
       "3          scf812  \n",
       "4          scf9ms  "
      ]
     },
     "execution_count": 6,
     "metadata": {},
     "output_type": "execute_result"
    }
   ],
   "source": [
    "# Preview\n",
    "games_df = pd.read_csv(\"./nintendo_switch_games.csv\",)\n",
    "games_df.head()"
   ]
  },
  {
   "cell_type": "markdown",
   "id": "b1694d42-058f-4836-a62a-115959a415a0",
   "metadata": {},
   "source": [
    "## Get Embeddings from Model Inference Endpoint"
   ]
  },
  {
   "cell_type": "code",
   "execution_count": 7,
   "id": "9a3d94da-7678-4488-aa09-ab83b80dd0e6",
   "metadata": {
    "tags": []
   },
   "outputs": [],
   "source": [
    "# Get the existing model\n",
    "predictor = HuggingFacePredictor(MODEL_ENDPOINT, sagemaker_session=sess)"
   ]
  },
  {
   "cell_type": "code",
   "execution_count": 8,
   "id": "988d6586-877b-4015-a68b-e27dba2a6157",
   "metadata": {
    "tags": []
   },
   "outputs": [
    {
     "data": {
      "application/vnd.jupyter.widget-view+json": {
       "model_id": "b0e4e3a6d7744c4ebe5c85ffc44de587",
       "version_major": 2,
       "version_minor": 0
      },
      "text/plain": [
       "  0%|          | 0/1468 [00:00<?, ?it/s]"
      ]
     },
     "metadata": {},
     "output_type": "display_data"
    },
    {
     "data": {
      "text/html": [
       "<div>\n",
       "<style scoped>\n",
       "    .dataframe tbody tr th:only-of-type {\n",
       "        vertical-align: middle;\n",
       "    }\n",
       "\n",
       "    .dataframe tbody tr th {\n",
       "        vertical-align: top;\n",
       "    }\n",
       "\n",
       "    .dataframe thead th {\n",
       "        text-align: right;\n",
       "    }\n",
       "</style>\n",
       "<table border=\"1\" class=\"dataframe\">\n",
       "  <thead>\n",
       "    <tr style=\"text-align: right;\">\n",
       "      <th></th>\n",
       "      <th>igdb_id</th>\n",
       "      <th>name</th>\n",
       "      <th>summary</th>\n",
       "      <th>description</th>\n",
       "      <th>url</th>\n",
       "      <th>artwork_hash</th>\n",
       "      <th>screenshot_hash</th>\n",
       "      <th>description_embeddings</th>\n",
       "    </tr>\n",
       "  </thead>\n",
       "  <tbody>\n",
       "    <tr>\n",
       "      <th>0</th>\n",
       "      <td>174898</td>\n",
       "      <td>Clash of Chess</td>\n",
       "      <td>Our app is ideal for everyone. It contains 10 ...</td>\n",
       "      <td>Title: \"Clash of Chess\" Summary: Our app is id...</td>\n",
       "      <td>https://www.igdb.com/games/clash-of-chess</td>\n",
       "      <td>ar15x4</td>\n",
       "      <td>sce3dq</td>\n",
       "      <td>[-0.005498327314853668, -0.03673512861132622, ...</td>\n",
       "    </tr>\n",
       "    <tr>\n",
       "      <th>1</th>\n",
       "      <td>186554</td>\n",
       "      <td>Minepull</td>\n",
       "      <td>More than just a puzzle game. Minepull highlig...</td>\n",
       "      <td>Title: \"Minepull\" Summary: More than just a pu...</td>\n",
       "      <td>https://www.igdb.com/games/minepull</td>\n",
       "      <td>ar1c3t</td>\n",
       "      <td>scf5ib</td>\n",
       "      <td>[0.02409840002655983, -0.025014473125338554, 0...</td>\n",
       "    </tr>\n",
       "    <tr>\n",
       "      <th>2</th>\n",
       "      <td>186935</td>\n",
       "      <td>Biker Garage: Mechanic Simulator</td>\n",
       "      <td>Biker Garage: Mechanic Simulator allows you to...</td>\n",
       "      <td>Title: \"Biker Garage: Mechanic Simulator\" Summ...</td>\n",
       "      <td>https://www.igdb.com/games/biker-garage-mechan...</td>\n",
       "      <td>ar1ca7</td>\n",
       "      <td>scf75j</td>\n",
       "      <td>[-0.06617075949907303, 0.032370537519454956, -...</td>\n",
       "    </tr>\n",
       "    <tr>\n",
       "      <th>3</th>\n",
       "      <td>187097</td>\n",
       "      <td>Geography Quiz Festival: Guess the Countries</td>\n",
       "      <td>Advance through our beloved game by completing...</td>\n",
       "      <td>Title: \"Geography Quiz Festival: Guess the Cou...</td>\n",
       "      <td>https://www.igdb.com/games/geography-quiz-fest...</td>\n",
       "      <td>ar1ci3</td>\n",
       "      <td>scf812</td>\n",
       "      <td>[0.1011415347456932, 0.0005400646477937698, 0....</td>\n",
       "    </tr>\n",
       "    <tr>\n",
       "      <th>4</th>\n",
       "      <td>187475</td>\n",
       "      <td>Chess: Clash of Kings</td>\n",
       "      <td>Our app is ideal for everyone. It contains 10 ...</td>\n",
       "      <td>Title: \"Chess: Clash of Kings\" Summary: Our ap...</td>\n",
       "      <td>https://www.igdb.com/games/chess-clash-of-kings</td>\n",
       "      <td>ar1d21</td>\n",
       "      <td>scf9ms</td>\n",
       "      <td>[-0.025009868666529655, -0.01236047875136137, ...</td>\n",
       "    </tr>\n",
       "  </tbody>\n",
       "</table>\n",
       "</div>"
      ],
      "text/plain": [
       "   igdb_id                                          name   \n",
       "0   174898                                Clash of Chess  \\\n",
       "1   186554                                      Minepull   \n",
       "2   186935              Biker Garage: Mechanic Simulator   \n",
       "3   187097  Geography Quiz Festival: Guess the Countries   \n",
       "4   187475                         Chess: Clash of Kings   \n",
       "\n",
       "                                             summary   \n",
       "0  Our app is ideal for everyone. It contains 10 ...  \\\n",
       "1  More than just a puzzle game. Minepull highlig...   \n",
       "2  Biker Garage: Mechanic Simulator allows you to...   \n",
       "3  Advance through our beloved game by completing...   \n",
       "4  Our app is ideal for everyone. It contains 10 ...   \n",
       "\n",
       "                                         description   \n",
       "0  Title: \"Clash of Chess\" Summary: Our app is id...  \\\n",
       "1  Title: \"Minepull\" Summary: More than just a pu...   \n",
       "2  Title: \"Biker Garage: Mechanic Simulator\" Summ...   \n",
       "3  Title: \"Geography Quiz Festival: Guess the Cou...   \n",
       "4  Title: \"Chess: Clash of Kings\" Summary: Our ap...   \n",
       "\n",
       "                                                 url artwork_hash   \n",
       "0          https://www.igdb.com/games/clash-of-chess       ar15x4  \\\n",
       "1                https://www.igdb.com/games/minepull       ar1c3t   \n",
       "2  https://www.igdb.com/games/biker-garage-mechan...       ar1ca7   \n",
       "3  https://www.igdb.com/games/geography-quiz-fest...       ar1ci3   \n",
       "4    https://www.igdb.com/games/chess-clash-of-kings       ar1d21   \n",
       "\n",
       "  screenshot_hash                             description_embeddings  \n",
       "0          sce3dq  [-0.005498327314853668, -0.03673512861132622, ...  \n",
       "1          scf5ib  [0.02409840002655983, -0.025014473125338554, 0...  \n",
       "2          scf75j  [-0.06617075949907303, 0.032370537519454956, -...  \n",
       "3          scf812  [0.1011415347456932, 0.0005400646477937698, 0....  \n",
       "4          scf9ms  [-0.025009868666529655, -0.01236047875136137, ...  "
      ]
     },
     "execution_count": 8,
     "metadata": {},
     "output_type": "execute_result"
    }
   ],
   "source": [
    "# Inference\n",
    "def generate_embeddings(description):\n",
    "    data = {\"inputs\": description}\n",
    "    prediction = predictor.predict(data=data)\n",
    "    vector = prediction['vectors']\n",
    "    return vector\n",
    "\n",
    "workers = 1 * cpu_count()\n",
    "chunksize = 32\n",
    "\n",
    "# Make inferences\n",
    "vectors = process_map(generate_embeddings, games_df['description'].tolist(), max_workers=workers, chunksize=chunksize)\n",
    "\n",
    "# Write embeddings into Pandas DataFrame\n",
    "games_df.loc[:, \"description_embeddings\"] = vectors\n",
    "games_df.head()"
   ]
  },
  {
   "cell_type": "markdown",
   "id": "85d4a1c0-fbb5-45f7-9bbc-6f944e92fd3e",
   "metadata": {},
   "source": [
    "## Import Embeddings into PostgreSQL Database"
   ]
  },
  {
   "cell_type": "code",
   "execution_count": 11,
   "id": "a317d698-8e1d-4574-969c-1849c4f08208",
   "metadata": {
    "tags": []
   },
   "outputs": [],
   "source": [
    "# Get database credentials\n",
    "db_secret = secretsmanager.get_secret_value(\n",
    "    SecretId=DB_SECRET_ARN\n",
    ")\n",
    "db_secret_string = json.loads(db_secret['SecretString'])\n",
    "db_secret_string\n",
    "db_host = db_secret_string['host']\n",
    "db_port = db_secret_string['port']\n",
    "db_user = db_secret_string['username']\n",
    "db_pass = db_secret_string['password']"
   ]
  },
  {
   "cell_type": "code",
   "execution_count": 12,
   "id": "d830e006-2b8c-425a-a8c8-67388718a3dc",
   "metadata": {
    "tags": []
   },
   "outputs": [],
   "source": [
    "# Connect to Database\n",
    "with psycopg.connect(host=db_host, user=db_user, password=db_pass, port=db_port, connect_timeout=10, autocommit=True) as conn:\n",
    "    with conn.cursor() as cur:\n",
    "        # Enable pgvector extension\n",
    "        cur.execute(\"CREATE EXTENSION IF NOT EXISTS vector;\")\n",
    "        register_vector(conn)\n",
    "\n",
    "        # Create IGDB table\n",
    "        cur.execute(\"DROP TABLE IF EXISTS igdb\")\n",
    "        cur.execute(\"\"\"CREATE TABLE IF NOT EXISTS igdb(\n",
    "                       igdb_id bigserial primary key, \n",
    "                       name text,\n",
    "                       summary text,\n",
    "                       description text,\n",
    "                       url text,\n",
    "                       artwork_hash text,\n",
    "                       screenshot_hash text,\n",
    "                       description_embeddings vector(384));\"\"\")\n",
    "\n",
    "        # Insert data into IGDB table\n",
    "        for _, row in games_df.iterrows():\n",
    "            cur.execute(\"\"\"INSERT INTO igdb\n",
    "                              (igdb_id, name, summary, description, url, artwork_hash, screenshot_hash, description_embeddings) \n",
    "                          VALUES(%s, %s, %s, %s, %s, %s, %s, %s);\"\"\", \n",
    "                          (row[\"igdb_id\"], row[\"name\"], row[\"summary\"], row[\"description\"], row[\"url\"], row[\"artwork_hash\"], row[\"screenshot_hash\"], row[\"description_embeddings\"], ))\n",
    "        \n",
    "        # # Create L2 distance index\n",
    "        # cur.execute(\"\"\"CREATE INDEX ON igdb \n",
    "        #        USING ivfflat (description_embeddings vector_l2_ops) WITH (lists = 100);\"\"\")  # Index name: igdb_description_embeddings_idx\n",
    "        # cur.execute(\"VACUUM ANALYZE igdb;\")\n",
    "        \n",
    "        # Create Cosine distance index\n",
    "        cur.execute(\"\"\"CREATE INDEX ON igdb \n",
    "               USING ivfflat (description_embeddings vector_cosine_ops) WITH (lists = 100);\"\"\")  # Index name: igdb_description_embeddings_idx\n",
    "        cur.execute(\"VACUUM ANALYZE igdb;\")"
   ]
  },
  {
   "cell_type": "code",
   "execution_count": null,
   "id": "43ab06cd-73bb-444b-8ac7-74deaa1c8a08",
   "metadata": {},
   "outputs": [],
   "source": []
  }
 ],
 "metadata": {
  "kernelspec": {
   "display_name": "conda_python3",
   "language": "python",
   "name": "conda_python3"
  },
  "language_info": {
   "codemirror_mode": {
    "name": "ipython",
    "version": 3
   },
   "file_extension": ".py",
   "mimetype": "text/x-python",
   "name": "python",
   "nbconvert_exporter": "python",
   "pygments_lexer": "ipython3",
   "version": "3.10.10"
  }
 },
 "nbformat": 4,
 "nbformat_minor": 5
}
