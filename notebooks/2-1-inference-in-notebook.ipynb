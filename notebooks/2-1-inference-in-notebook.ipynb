{
 "cells": [
  {
   "cell_type": "markdown",
   "id": "f1ec9383-e0e1-46cc-ba67-53c70dfdceb7",
   "metadata": {},
   "source": [
    "# IGDB Embeddings pgvector Demo - Inference & Search"
   ]
  },
  {
   "cell_type": "code",
   "execution_count": 1,
   "id": "ad25a62d-fe98-4c25-8252-1291f7d19e77",
   "metadata": {},
   "outputs": [],
   "source": [
    "!pip install \"psycopg[binary]\" --quiet"
   ]
  },
  {
   "cell_type": "code",
   "execution_count": 2,
   "id": "2f6fa752-6914-4613-8fea-ee78123fd8ad",
   "metadata": {
    "tags": []
   },
   "outputs": [],
   "source": [
    "import sagemaker\n",
    "import boto3\n",
    "import json\n",
    "import pandas as pd\n",
    "import psycopg\n",
    "from sagemaker.huggingface.model import HuggingFacePredictor\n",
    "from IPython.display import display, HTML"
   ]
  },
  {
   "cell_type": "code",
   "execution_count": 3,
   "id": "088e790c-a78b-4bcb-91c7-bd47905017d5",
   "metadata": {},
   "outputs": [],
   "source": [
    "# Create SageMaker Session\n",
    "sess = sagemaker.Session()\n",
    "\n",
    "# Create SecretsManager client\n",
    "secretsmanager = boto3.client('secretsmanager')"
   ]
  },
  {
   "cell_type": "markdown",
   "id": "3ff77374-953f-4aaf-8d70-dccab93191f3",
   "metadata": {
    "tags": []
   },
   "source": [
    "## Retrive all variables from Notebook Instance's tags"
   ]
  },
  {
   "cell_type": "code",
   "execution_count": 4,
   "id": "a95730aa-25b7-4a8b-9ef2-7be36baae8d3",
   "metadata": {
    "tags": []
   },
   "outputs": [],
   "source": [
    "# Get this Notebook Instance's ARN\n",
    "NOTEBOOK_ARN = !jq '.ResourceArn' /opt/ml/metadata/resource-metadata.json --raw-output\n",
    "NOTEBOOK_ARN = NOTEBOOK_ARN[0]\n",
    "\n",
    "# Get the tags of this Notebook Instance\n",
    "tags = sess.sagemaker_client.list_tags(ResourceArn=NOTEBOOK_ARN)['Tags']\n",
    "\n",
    "# Filter out the keys that contains the necessary information\n",
    "DB_SECRET_ARN = list(filter(lambda x: x['Key'] == 'VAR_DB_SECRET_ARN', tags))[0]['Value']\n",
    "MODEL_ENDPOINT = list(filter(lambda x: x['Key'] == 'VAR_MODEL_ENDPOINT', tags))[0]['Value']"
   ]
  },
  {
   "cell_type": "markdown",
   "id": "5b18f5cf-d55b-421c-8849-613ed4ee641e",
   "metadata": {},
   "source": [
    "## Inference with Model Endpoint"
   ]
  },
  {
   "cell_type": "code",
   "execution_count": 5,
   "id": "4c990a5c-3c86-46f8-845f-62ba4af0b2c7",
   "metadata": {
    "tags": []
   },
   "outputs": [],
   "source": [
    "# Get database credentials\n",
    "secretsmanager = boto3.client('secretsmanager')\n",
    "\n",
    "db_secret = secretsmanager.get_secret_value(\n",
    "    SecretId=DB_SECRET_ARN\n",
    ")\n",
    "db_secret_string = json.loads(db_secret['SecretString'])\n",
    "db_secret_string\n",
    "db_host = db_secret_string['host']\n",
    "db_port = db_secret_string['port']\n",
    "db_user = db_secret_string['username']\n",
    "db_pass = db_secret_string['password']"
   ]
  },
  {
   "cell_type": "code",
   "execution_count": 6,
   "id": "93c580f5-1e59-4f6a-b97d-5938cc8f8f94",
   "metadata": {
    "tags": []
   },
   "outputs": [],
   "source": [
    "# Get the existing model\n",
    "predictor = HuggingFacePredictor(MODEL_ENDPOINT, sagemaker_session=sess)"
   ]
  },
  {
   "cell_type": "code",
   "execution_count": 7,
   "id": "d428d343-58a6-4ca6-a338-9e241548a459",
   "metadata": {
    "tags": []
   },
   "outputs": [
    {
     "data": {
      "text/html": [
       "<table border=\"1\" class=\"dataframe\">\n",
       "  <thead>\n",
       "    <tr style=\"text-align: right;\">\n",
       "      <th></th>\n",
       "      <th>IGDB ID</th>\n",
       "      <th>Name</th>\n",
       "      <th>Summary</th>\n",
       "      <th>Description</th>\n",
       "      <th>IGDB Page</th>\n",
       "      <th>Artwork</th>\n",
       "      <th>Screenshot</th>\n",
       "    </tr>\n",
       "  </thead>\n",
       "  <tbody>\n",
       "    <tr>\n",
       "      <th>0</th>\n",
       "      <td>237289</td>\n",
       "      <td>The Legend of Zelda: Tears of the Kingdom - Collector's Edition</td>\n",
       "      <td>Includes:\\n- The Legend of Zelda: Tears of the Kingdom (physical version)\\n- Artbook\\n- SteelBook case\\n- Steel Poster\\n- A set of four pin badges.</td>\n",
       "      <td>Title: \"The Legend of Zelda: Tears of the Kingdom - Collector's Edition\" Summary: Includes:\\n- The Legend of Zelda: Tears of the Kingdom (physical version)\\n- Artbook\\n- SteelBook case\\n- Steel Poster\\n- A set of four pin badges. Released on May 12, 2023. Publishers: Nintendo. Platforms: Nintendo Switch. Game Modes: Single player. Genres: Role-playing (RPG), Adventure. Themes: Action, Fantasy, Open world. Player Perspectives: Third person.</td>\n",
       "      <td><a href=https://www.igdb.com/games/the-legend-of-zelda-tears-of-the-kingdom-collectors-edition target=\"_blank\" rel=\"noopener noreferrer\">Link to IGDB</a></td>\n",
       "      <td><img src=\"https://images.igdb.com/igdb/image/upload/t_screenshot_med/ar29ot.jpg\"></td>\n",
       "      <td><img src=\"https://images.igdb.com/igdb/image/upload/t_screenshot_med/NaN.jpg\"></td>\n",
       "    </tr>\n",
       "    <tr>\n",
       "      <th>1</th>\n",
       "      <td>119388</td>\n",
       "      <td>The Legend of Zelda: Tears of the Kingdom</td>\n",
       "      <td>The Legend of Zelda: Tears of the Kingdom is the sequel to The Legend of Zelda: Breath of the Wild. The setting for Link’s adventure has been expanded to include the skies above the vast lands of Hyrule.</td>\n",
       "      <td>Title: \"The Legend of Zelda: Tears of the Kingdom\" Summary: The Legend of Zelda: Tears of the Kingdom is the sequel to The Legend of Zelda: Breath of the Wild. The setting for Link’s adventure has been expanded to include the skies above the vast lands of Hyrule. Released on May 12, 2023. Publishers: Nintendo. Platforms: Nintendo Switch. Game Modes: Single player. Genres: Adventure. Themes: Action, Fantasy, Science fiction, Open world. Player Perspectives: Third person.</td>\n",
       "      <td><a href=https://www.igdb.com/games/the-legend-of-zelda-tears-of-the-kingdom target=\"_blank\" rel=\"noopener noreferrer\">Link to IGDB</a></td>\n",
       "      <td><img src=\"https://images.igdb.com/igdb/image/upload/t_screenshot_med/ar1vdw.jpg\"></td>\n",
       "      <td><img src=\"https://images.igdb.com/igdb/image/upload/t_screenshot_med/sc6lnr.jpg\"></td>\n",
       "    </tr>\n",
       "    <tr>\n",
       "      <th>2</th>\n",
       "      <td>252906</td>\n",
       "      <td>The Legend of Zelda: Tears of the Kingdom - Better Sages Mod</td>\n",
       "      <td>A mod which changes the appearance and behavior of the Sages companions in the game, making them stronger and faster, removing their cooldown and making their appearance the same as their original Secret Stone holders.</td>\n",
       "      <td>Title: \"The Legend of Zelda: Tears of the Kingdom - Better Sages Mod\" Summary: A mod which changes the appearance and behavior of the Sages companions in the game, making them stronger and faster, removing their cooldown and making their appearance the same as their original Secret Stone holders. Released on May 01, 2023. Publishers: ShrineFox. Platforms: Nintendo Switch. Game Modes: Single player. Genres: Adventure. Themes: Action, Fantasy, Science fiction. Player Perspectives: Third person.</td>\n",
       "      <td><a href=https://www.igdb.com/games/the-legend-of-zelda-tears-of-the-kingdom-better-sages-mod target=\"_blank\" rel=\"noopener noreferrer\">Link to IGDB</a></td>\n",
       "      <td><img src=\"https://images.igdb.com/igdb/image/upload/t_screenshot_med/ar2cmt.jpg\"></td>\n",
       "      <td><img src=\"https://images.igdb.com/igdb/image/upload/t_screenshot_med/NaN.jpg\"></td>\n",
       "    </tr>\n",
       "    <tr>\n",
       "      <th>3</th>\n",
       "      <td>223793</td>\n",
       "      <td>Doraemon Story of Seasons: Friends of the Great Kingdom - FGK DLC 1</td>\n",
       "      <td>Includes:\\n- 5 outfits for Noby and Friends\\n- 8 types of furniture\\n- 1 mini-storyllllllllllllllllllllllllllll</td>\n",
       "      <td>Title: \"Doraemon Story of Seasons: Friends of the Great Kingdom - FGK DLC 1\" Summary: Includes:\\n- 5 outfits for Noby and Friends\\n- 8 types of furniture\\n- 1 mini-storyllllllllllllllllllllllllllll Released on Nov 02, 2022. Publishers: unknown. Platforms: Nintendo Switch. Game Modes: unknown. Genres: unknown. Themes: unknown. Player Perspectives: unknown.</td>\n",
       "      <td><a href=https://www.igdb.com/games/doraemon-story-of-seasons-friends-of-the-great-kingdom-fgk-dlc-1 target=\"_blank\" rel=\"noopener noreferrer\">Link to IGDB</a></td>\n",
       "      <td><img src=\"https://images.igdb.com/igdb/image/upload/t_screenshot_med/ar1xzi.jpg\"></td>\n",
       "      <td><img src=\"https://images.igdb.com/igdb/image/upload/t_screenshot_med/scjkux.jpg\"></td>\n",
       "    </tr>\n",
       "    <tr>\n",
       "      <th>4</th>\n",
       "      <td>209344</td>\n",
       "      <td>Sakura Fantasy</td>\n",
       "      <td>Become a cute fantasy knight in a magical kingdom of beautiful women</td>\n",
       "      <td>Title: \"Sakura Fantasy\" Summary: Become a cute fantasy knight in a magical kingdom of beautiful women Released on Jul 22, 2022. Publishers: unknown. Platforms: Nintendo Switch. Game Modes: Single player. Genres: Adventure. Themes: unknown. Player Perspectives: unknown.</td>\n",
       "      <td><a href=https://www.igdb.com/games/sakura-fantasy target=\"_blank\" rel=\"noopener noreferrer\">Link to IGDB</a></td>\n",
       "      <td><img src=\"https://images.igdb.com/igdb/image/upload/t_screenshot_med/ar1qc5.jpg\"></td>\n",
       "      <td><img src=\"https://images.igdb.com/igdb/image/upload/t_screenshot_med/schwjb.jpg\"></td>\n",
       "    </tr>\n",
       "  </tbody>\n",
       "</table>"
      ],
      "text/plain": [
       "<IPython.core.display.HTML object>"
      ]
     },
     "metadata": {},
     "output_type": "display_data"
    }
   ],
   "source": [
    "# Set question\n",
    "QUESTION = \"Zelda Tears of the Kingdom\"\n",
    "\n",
    "# Transform the question to embedding\n",
    "data = {\"inputs\": QUESTION}\n",
    "prediction = predictor.predict(data=data)\n",
    "vector = prediction['vectors']\n",
    "\n",
    "# Make a Query\n",
    "with psycopg.connect(host=db_host, user=db_user, password=db_pass, port=db_port, connect_timeout=10, autocommit=True) as conn:\n",
    "    with conn.cursor() as cur:\n",
    "        # # Official answer but FAILED\n",
    "        # cur.execute(\"\"\"SELECT igdb_id, name, summary, description, url, artwork_hash, screenshot_hash, description_embeddings\n",
    "        #                 FROM igdb \n",
    "        #                ORDER BY descriptions_embeddings <-> %s::vector limit 5;\"\"\", \n",
    "        #             (np.array(vector),))\n",
    "\n",
    "        # Ref: https://github.com/pgvector/pgvector-python/issues/4#issuecomment-1474930998\n",
    "        cur.execute(\"\"\"SELECT igdb_id, name, summary, description, url, artwork_hash, screenshot_hash\n",
    "                         FROM igdb \n",
    "                        ORDER BY description_embeddings <-> %s::vector limit 5;\"\"\", \n",
    "                    (vector,))\n",
    "\n",
    "        responses = cur.fetchall()\n",
    "\n",
    "# Display the result as HTML\n",
    "def formatter_image(hash):\n",
    "    return f'<img src=\"https://images.igdb.com/igdb/image/upload/t_screenshot_med/{hash}.jpg\">'\n",
    "\n",
    "def formatter_url(url):\n",
    "    return f'<a href={url} target=\"_blank\" rel=\"noopener noreferrer\">Link to IGDB</a>'\n",
    "\n",
    "result = pd.DataFrame(responses)\n",
    "result.columns = (\"IGDB ID\", \"Name\", \"Summary\", \"Description\", \"IGDB Page\", \"Artwork\", \"Screenshot\",)\n",
    "display(HTML(result.to_html(escape=False, formatters={\n",
    "    \"IGDB Page\": formatter_url,\n",
    "    \"Artwork\": formatter_image,\n",
    "    \"Screenshot\": formatter_image,\n",
    "})))"
   ]
  },
  {
   "cell_type": "code",
   "execution_count": null,
   "id": "43e0191c-b920-444a-8a11-e2aac103c215",
   "metadata": {},
   "outputs": [],
   "source": []
  }
 ],
 "metadata": {
  "kernelspec": {
   "display_name": "conda_python3",
   "language": "python",
   "name": "conda_python3"
  },
  "language_info": {
   "codemirror_mode": {
    "name": "ipython",
    "version": 3
   },
   "file_extension": ".py",
   "mimetype": "text/x-python",
   "name": "python",
   "nbconvert_exporter": "python",
   "pygments_lexer": "ipython3",
   "version": "3.10.10"
  }
 },
 "nbformat": 4,
 "nbformat_minor": 5
}
